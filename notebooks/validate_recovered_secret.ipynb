{
 "cells": [
  {
   "cell_type": "markdown",
   "id": "4cea4d4f",
   "metadata": {},
   "source": [
    "Notebook to validate if recovered secret is correct. \n",
    "You can also just use the built-in checks in evalutor.py\n",
    "See Section 4.4 in our paper for more details."
   ]
  },
  {
   "cell_type": "code",
   "execution_count": 1,
   "id": "f95ab8a8-a2ce-46a9-a902-b7ead94295bb",
   "metadata": {},
   "outputs": [],
   "source": [
    "# Copyright (c) Meta Platforms, Inc. and affiliates.\n",
    "# All rights reserved.\n",
    "# \n",
    "# This source code is licensed under the license found in the\n",
    "# LICENSE file in the root directory of this source tree.\n",
    "\n",
    "import numpy as np\n",
    "import matplotlib.pyplot as plt\n",
    "from scipy.linalg import circulant\n",
    "\n",
    "def rlwe_sample(s, Q, N, rng, sigma=3, a=None):\n",
    "    if a is None:\n",
    "        a = rng.integers(0, Q, size=N, dtype=np.int64)\n",
    "    # do the circulant:\n",
    "    c = circulant(a)\n",
    "    tri = np.triu_indices(N, 1)\n",
    "    c[tri] *= -1\n",
    "    c = c % Q # EJWQ\n",
    "    e = np.int64(rng.normal(0, sigma, size = N).round())\n",
    "    b = (np.inner(c, s) + e) % Q\n",
    "    return a, b\n",
    "\n",
    "def gen_secret(N, hamming, rng):\n",
    "    s = np.zeros(shape=N, dtype=np.int64)\n",
    "    for _ in range(hamming):\n",
    "        setit = False\n",
    "        while not setit:\n",
    "            idx = rng.integers(N, size=1)\n",
    "            if s[idx] != 1:\n",
    "                s[idx] = 1\n",
    "                setit = True\n",
    "        return s"
   ]
  },
  {
   "cell_type": "markdown",
   "id": "04d439ca-631f-4a6b-9622-9ede3c02386a",
   "metadata": {},
   "source": [
    "If s is correct secret and t is an incorrect guess:  \n",
    "Var(b-as) = Var(e)=sigma^2,   \n",
    "Var(b-at) = Var(Uniform(O,Q))= Q^2/12  \n",
    "with q=251 and sigma=3, Var(b-as)=9 and Var(b-at)=5250  "
   ]
  },
  {
   "cell_type": "code",
   "execution_count": 2,
   "id": "ccd928b5-0433-4d48-9d51-9a9e1e038d78",
   "metadata": {},
   "outputs": [],
   "source": [
    "Q = 251\n",
    "N=50\n",
    "hamming=5\n",
    "sigma=np.sqrt(N)\n",
    "rng = np.random.default_rng()\n",
    "s = gen_secret(50, 5, rng)"
   ]
  },
  {
   "cell_type": "code",
   "execution_count": 3,
   "id": "e4c46ce2-ff99-440c-9368-2c7471bb4892",
   "metadata": {},
   "outputs": [],
   "source": [
    "origA = []\n",
    "origB = []\n",
    "for i in range(10):\n",
    "    a, b = rlwe_sample(s, Q, N, rng, sigma, None)\n",
    "    origA.append(a)\n",
    "    origB.append(b)"
   ]
  },
  {
   "cell_type": "code",
   "execution_count": 4,
   "id": "faf14bd5-084d-4536-802c-bd408cc9885b",
   "metadata": {},
   "outputs": [
    {
     "name": "stdout",
     "output_type": "stream",
     "text": [
      "test 0 std 60.62152551693168\n",
      "test 1 std 60.153520229492806\n",
      "test 2 std 61.41775831142\n",
      "test 3 std 60.51078370009762\n",
      "test 4 std 61.34926434766761\n"
     ]
    }
   ],
   "source": [
    "guess_s = s # gen_secret(50, 5, rng)#s\n",
    "guess_s[3] = 1\n",
    "def modFixer(x):\n",
    "    if x > Q-(sigma**2):\n",
    "        return Q-x\n",
    "    return x\n",
    "\n",
    "for i in range(5):\n",
    "    newB = []\n",
    "    for a in origA:\n",
    "        _, b = rlwe_sample(guess_s, Q, N, rng, sigma, a)\n",
    "        newB.append(b)\n",
    "    diffBs = (np.array(origB) - np.array(newB)) % Q\n",
    "    diffBs_fixed = np.vectorize(modFixer)(diffBs)\n",
    "    print('test', i, 'std', np.std(diffBs_fixed))"
   ]
  },
  {
   "cell_type": "code",
   "execution_count": 59,
   "id": "c14a4ed0-c383-4fa1-a20e-eaa5f4995283",
   "metadata": {},
   "outputs": [
    {
     "data": {
      "text/plain": [
       "21.246027769915013"
      ]
     },
     "execution_count": 59,
     "metadata": {},
     "output_type": "execute_result"
    }
   ],
   "source": [
    "np.std(diffBs_fixed)"
   ]
  }
 ],
 "metadata": {
  "kernelspec": {
   "display_name": "Python 3",
   "language": "python",
   "name": "python3"
  },
  "language_info": {
   "codemirror_mode": {
    "name": "ipython",
    "version": 3
   },
   "file_extension": ".py",
   "mimetype": "text/x-python",
   "name": "python",
   "nbconvert_exporter": "python",
   "pygments_lexer": "ipython3",
   "version": "3.8.8"
  },
  "vscode": {
   "interpreter": {
    "hash": "31f2aee4e71d21fbe5cf8b01ff0e069b9275f58929596ceb00d14d90e3e16cd6"
   }
  }
 },
 "nbformat": 4,
 "nbformat_minor": 5
}
